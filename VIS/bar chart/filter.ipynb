{
 "cells": [
  {
   "cell_type": "code",
   "execution_count": null,
   "metadata": {},
   "outputs": [],
   "source": [
    "import pandas as pd\n",
    "\n",
    "# Read the CSV file\n",
    "df = pd.read_csv('payment_duration.csv')\n",
    "\n",
    "# Dictionary to map original column names to new column names\n",
    "column_mapping = {\n",
    "    \"ABSTUDY (Living allowance)\": \"ABSTUDY 1\",\n",
    "    \"ABSTUDY (Non-living allowance)\": \"ABSTUDY 2\",\n",
    "    \"Age Pension\": \"Age Pension\",\n",
    "    \"Austudy\": \"Austudy\",\n",
    "    \"Carer Allowance\": \"Carer Allowance 1\",\n",
    "    \"Carer Allowance (Child Health Care Card only)\": \"Carer Allowance 2\",\n",
    "    \"Carer Payment\": \"Carer Payment\",\n",
    "    \"Commonwealth Rent Assistance\": \"Rent Assistance\",\n",
    "    \"Commonwealth Seniors Health Card\": \"Seniors Health Card\",\n",
    "    \"Disability Support Pension\": \"Disability Pension\",\n",
    "    \"Family Tax Benefit A\": \"Family Benefit A\",\n",
    "    \"Family Tax Benefit B\": \"Family Benefit B\",\n",
    "    \"Health Care Card\": \"Health Care Card\",\n",
    "    \"JobSeeker Payment\": \"JobSeeker Payment\",\n",
    "    \"Low Income Card\": \"Low Income Card\",\n",
    "    \"Parenting Payment Partnered\": \"Parenting Pay 1\",\n",
    "    \"Parenting Payment Single\": \"Parenting Pay 2\",\n",
    "    \"Pension Concession Card\": \"Pensioner Concession\",\n",
    "    \"Special Benefit\": \"Special Benefit\",\n",
    "    \"Youth Allowance (other)\": \"Youth Allowance 1\",\n",
    "    \"Youth Allowance (student and apprentice)\": \"Youth Allowance 2\"\n",
    "}\n",
    "\n",
    "# Renaming the columns\n",
    "df.rename(columns=column_mapping, inplace=True)\n",
    "\n",
    "# Save the updated DataFrame to a new CSV file\n",
    "df.to_csv('map2_updated.csv', index=False)\n"
   ]
  },
  {
   "cell_type": "code",
   "execution_count": null,
   "metadata": {},
   "outputs": [],
   "source": []
  }
 ],
 "metadata": {
  "kernelspec": {
   "display_name": "base",
   "language": "python",
   "name": "python3"
  },
  "language_info": {
   "name": "python",
   "version": "3.11.4"
  }
 },
 "nbformat": 4,
 "nbformat_minor": 2
}
