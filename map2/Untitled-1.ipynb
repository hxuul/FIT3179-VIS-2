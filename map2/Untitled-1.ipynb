{
 "cells": [
  {
   "cell_type": "code",
   "execution_count": 1,
   "metadata": {},
   "outputs": [],
   "source": [
    "import csv"
   ]
  },
  {
   "cell_type": "code",
   "execution_count": 2,
   "metadata": {},
   "outputs": [
    {
     "name": "stdout",
     "output_type": "stream",
     "text": [
      "File converted and saved as output.csv\n"
     ]
    }
   ],
   "source": [
    "# Define the input and output file paths\n",
    "input_file_path = 'cond.txt'  # Path to your text file\n",
    "output_file_path = 'output.csv'  # Path where you want to save the CSV file\n",
    "\n",
    "# Open the input text file and read its content\n",
    "with open(input_file_path, 'r') as txt_file:\n",
    "    # Open the output file in write mode\n",
    "    with open(output_file_path, 'w', newline='') as csv_file:\n",
    "        csv_writer = csv.writer(csv_file)\n",
    "        \n",
    "        # Iterate through each line in the text file\n",
    "        for line in txt_file:\n",
    "            # Split each line by the comma to extract the columns\n",
    "            row = line.strip().split(',')\n",
    "            # Write the row into the CSV file\n",
    "            csv_writer.writerow(row)\n",
    "\n",
    "print(f\"File converted and saved as {output_file_path}\")"
   ]
  },
  {
   "cell_type": "code",
   "execution_count": 1,
   "metadata": {},
   "outputs": [
    {
     "name": "stderr",
     "output_type": "stream",
     "text": [
      "C:\\Users\\Admin\\AppData\\Roaming\\Python\\Python311\\site-packages\\pandas\\core\\arrays\\masked.py:60: UserWarning: Pandas requires version '1.3.6' or newer of 'bottleneck' (version '1.3.5' currently installed).\n",
      "  from pandas.core import (\n"
     ]
    }
   ],
   "source": [
    "import pandas as pd\n",
    "\n",
    "# Read the CSV file\n",
    "df = pd.read_csv('map2.csv')\n",
    "\n",
    "# Dictionary to map original column names to new column names\n",
    "column_mapping = {\n",
    "    \"ABSTUDY (Living allowance)\": \"ABSTUDY 1\",\n",
    "    \"ABSTUDY (Non-living allowance)\": \"ABSTUDY 2\",\n",
    "    \"Age Pension\": \"Age Pension\",\n",
    "    \"Austudy\": \"Austudy\",\n",
    "    \"Carer Allowance\": \"Carer Allowance 1\",\n",
    "    \"Carer Allowance (Child Health Care Card only)\": \"Carer Allowance 2\",\n",
    "    \"Carer Payment\": \"Carer Payment\",\n",
    "    \"Commonwealth Rent Assistance\": \"Rent Assistance\",\n",
    "    \"Commonwealth Seniors Health Card\": \"Seniors Health Card\",\n",
    "    \"Disability Support Pension\": \"Disability Pension\",\n",
    "    \"Family Tax Benefit A\": \"Family Benefit A\",\n",
    "    \"Family Tax Benefit B\": \"Family Benefit B\",\n",
    "    \"Health Care Card\": \"Health Care Card\",\n",
    "    \"JobSeeker Payment\": \"JobSeeker Payment\",\n",
    "    \"Low Income Card\": \"Low Income Card\",\n",
    "    \"Parenting Payment Partnered\": \"Parenting Pay 1\",\n",
    "    \"Parenting Payment Single\": \"Parenting Pay 2\",\n",
    "    \"Pension Concession Card\": \"Pensioner Concession\",\n",
    "    \"Special Benefit\": \"Special Benefit\",\n",
    "    \"Youth Allowance (other)\": \"Youth Allowance 1\",\n",
    "    \"Youth Allowance (student and apprentice)\": \"Youth Allowance 2\"\n",
    "}\n",
    "\n",
    "# Renaming the columns\n",
    "df.rename(columns=column_mapping, inplace=True)\n",
    "\n",
    "# Save the updated DataFrame to a new CSV file\n",
    "df.to_csv('map2_updated.csv', index=False)\n"
   ]
  },
  {
   "cell_type": "code",
   "execution_count": 1,
   "metadata": {},
   "outputs": [],
   "source": [
    "import math"
   ]
  },
  {
   "cell_type": "code",
   "execution_count": 3,
   "metadata": {},
   "outputs": [
    {
     "data": {
      "text/plain": [
       "2519.4955156950673"
      ]
     },
     "execution_count": 3,
     "metadata": {},
     "output_type": "execute_result"
    }
   ],
   "source": [
    "(735+14.13)/(0.446*2/3)"
   ]
  },
  {
   "cell_type": "code",
   "execution_count": 5,
   "metadata": {},
   "outputs": [
    {
     "data": {
      "text/plain": [
       "297.3333333333333"
      ]
     },
     "execution_count": 5,
     "metadata": {},
     "output_type": "execute_result"
    }
   ],
   "source": [
    "446/3 *2"
   ]
  },
  {
   "cell_type": "code",
   "execution_count": 6,
   "metadata": {},
   "outputs": [
    {
     "data": {
      "text/plain": [
       "111.472766"
      ]
     },
     "execution_count": 6,
     "metadata": {},
     "output_type": "execute_result"
    }
   ],
   "source": [
    "749.8*0.14867"
   ]
  },
  {
   "cell_type": "code",
   "execution_count": 7,
   "metadata": {},
   "outputs": [
    {
     "data": {
      "text/plain": [
       "86.32"
      ]
     },
     "execution_count": 7,
     "metadata": {},
     "output_type": "execute_result"
    }
   ],
   "source": [
    "43.16/0.5"
   ]
  },
  {
   "cell_type": "code",
   "execution_count": 9,
   "metadata": {},
   "outputs": [
    {
     "data": {
      "text/plain": [
       "21.660000000000082"
      ]
     },
     "execution_count": 9,
     "metadata": {},
     "output_type": "execute_result"
    }
   ],
   "source": [
    "771.46-749.8"
   ]
  },
  {
   "cell_type": "code",
   "execution_count": 10,
   "metadata": {},
   "outputs": [
    {
     "data": {
      "text/plain": [
       "2.97825"
      ]
     },
     "execution_count": 10,
     "metadata": {},
     "output_type": "execute_result"
    }
   ],
   "source": [
    "21.66*0.275/2"
   ]
  },
  {
   "cell_type": "code",
   "execution_count": null,
   "metadata": {},
   "outputs": [],
   "source": []
  }
 ],
 "metadata": {
  "kernelspec": {
   "display_name": "base",
   "language": "python",
   "name": "python3"
  },
  "language_info": {
   "codemirror_mode": {
    "name": "ipython",
    "version": 3
   },
   "file_extension": ".py",
   "mimetype": "text/x-python",
   "name": "python",
   "nbconvert_exporter": "python",
   "pygments_lexer": "ipython3",
   "version": "3.11.4"
  }
 },
 "nbformat": 4,
 "nbformat_minor": 2
}
