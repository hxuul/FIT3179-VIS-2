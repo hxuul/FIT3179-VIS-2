{
 "cells": [
  {
   "cell_type": "code",
   "execution_count": 1,
   "metadata": {},
   "outputs": [],
   "source": [
    "import csv"
   ]
  },
  {
   "cell_type": "code",
   "execution_count": 2,
   "metadata": {},
   "outputs": [
    {
     "name": "stdout",
     "output_type": "stream",
     "text": [
      "File converted and saved as output.csv\n"
     ]
    }
   ],
   "source": [
    "# Define the input and output file paths\n",
    "input_file_path = 'cond.txt'  # Path to your text file\n",
    "output_file_path = 'output.csv'  # Path where you want to save the CSV file\n",
    "\n",
    "# Open the input text file and read its content\n",
    "with open(input_file_path, 'r') as txt_file:\n",
    "    # Open the output file in write mode\n",
    "    with open(output_file_path, 'w', newline='') as csv_file:\n",
    "        csv_writer = csv.writer(csv_file)\n",
    "        \n",
    "        # Iterate through each line in the text file\n",
    "        for line in txt_file:\n",
    "            # Split each line by the comma to extract the columns\n",
    "            row = line.strip().split(',')\n",
    "            # Write the row into the CSV file\n",
    "            csv_writer.writerow(row)\n",
    "\n",
    "print(f\"File converted and saved as {output_file_path}\")"
   ]
  },
  {
   "cell_type": "code",
   "execution_count": null,
   "metadata": {},
   "outputs": [],
   "source": []
  }
 ],
 "metadata": {
  "kernelspec": {
   "display_name": "base",
   "language": "python",
   "name": "python3"
  },
  "language_info": {
   "codemirror_mode": {
    "name": "ipython",
    "version": 3
   },
   "file_extension": ".py",
   "mimetype": "text/x-python",
   "name": "python",
   "nbconvert_exporter": "python",
   "pygments_lexer": "ipython3",
   "version": "3.11.4"
  }
 },
 "nbformat": 4,
 "nbformat_minor": 2
}
